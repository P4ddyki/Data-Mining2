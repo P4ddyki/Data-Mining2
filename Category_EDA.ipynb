{
 "cells": [
  {
   "cell_type": "code",
   "execution_count": 1,
   "id": "8c64dd21",
   "metadata": {},
   "outputs": [],
   "source": [
    "import pandas as pd \n",
    "import numpy as np"
   ]
  },
  {
   "cell_type": "code",
   "execution_count": 2,
   "id": "6dd46738",
   "metadata": {},
   "outputs": [
    {
     "name": "stdout",
     "output_type": "stream",
     "text": [
      "1.1.5\n"
     ]
    }
   ],
   "source": [
    "# Pandas >= 0.25 required for this notebook\n",
    "print(pd.__version__)"
   ]
  },
  {
   "cell_type": "markdown",
   "id": "853a9093",
   "metadata": {},
   "source": [
    "## Below is a modified and compressed version of Yuan's work on categories"
   ]
  },
  {
   "cell_type": "code",
   "execution_count": 3,
   "id": "cf8eb957",
   "metadata": {},
   "outputs": [],
   "source": [
    "import warnings\n",
    "warnings.filterwarnings('ignore')"
   ]
  },
  {
   "cell_type": "code",
   "execution_count": 4,
   "id": "a40f8cd2",
   "metadata": {
    "scrolled": true
   },
   "outputs": [
    {
     "data": {
      "text/html": [
       "<div>\n",
       "<style scoped>\n",
       "    .dataframe tbody tr th:only-of-type {\n",
       "        vertical-align: middle;\n",
       "    }\n",
       "\n",
       "    .dataframe tbody tr th {\n",
       "        vertical-align: top;\n",
       "    }\n",
       "\n",
       "    .dataframe thead th {\n",
       "        text-align: right;\n",
       "    }\n",
       "</style>\n",
       "<table border=\"1\" class=\"dataframe\">\n",
       "  <thead>\n",
       "    <tr style=\"text-align: right;\">\n",
       "      <th></th>\n",
       "      <th>itemID</th>\n",
       "      <th>brand</th>\n",
       "      <th>feature_1</th>\n",
       "      <th>feature_2</th>\n",
       "      <th>feature_3</th>\n",
       "      <th>feature_4</th>\n",
       "      <th>feature_5</th>\n",
       "      <th>categories</th>\n",
       "    </tr>\n",
       "  </thead>\n",
       "  <tbody>\n",
       "    <tr>\n",
       "      <th>0</th>\n",
       "      <td>22665</td>\n",
       "      <td>861</td>\n",
       "      <td>4</td>\n",
       "      <td>0</td>\n",
       "      <td>490</td>\n",
       "      <td>2</td>\n",
       "      <td>66</td>\n",
       "      <td>[2890, 855, 3908, 3909]</td>\n",
       "    </tr>\n",
       "    <tr>\n",
       "      <th>1</th>\n",
       "      <td>28640</td>\n",
       "      <td>1366</td>\n",
       "      <td>10</td>\n",
       "      <td>1</td>\n",
       "      <td>537</td>\n",
       "      <td>0</td>\n",
       "      <td>101</td>\n",
       "      <td>[4300]</td>\n",
       "    </tr>\n",
       "    <tr>\n",
       "      <th>2</th>\n",
       "      <td>13526</td>\n",
       "      <td>1090</td>\n",
       "      <td>10</td>\n",
       "      <td>0</td>\n",
       "      <td>511</td>\n",
       "      <td>0</td>\n",
       "      <td>0</td>\n",
       "      <td>[3270, 163, 284, 1694, 12, 3837, 2422, 3595, 3...</td>\n",
       "    </tr>\n",
       "    <tr>\n",
       "      <th>3</th>\n",
       "      <td>21399</td>\n",
       "      <td>1090</td>\n",
       "      <td>10</td>\n",
       "      <td>1</td>\n",
       "      <td>511</td>\n",
       "      <td>0</td>\n",
       "      <td>0</td>\n",
       "      <td>[3270]</td>\n",
       "    </tr>\n",
       "    <tr>\n",
       "      <th>4</th>\n",
       "      <td>8504</td>\n",
       "      <td>768</td>\n",
       "      <td>4</td>\n",
       "      <td>1</td>\n",
       "      <td>484</td>\n",
       "      <td>0</td>\n",
       "      <td>66</td>\n",
       "      <td>[2470]</td>\n",
       "    </tr>\n",
       "  </tbody>\n",
       "</table>\n",
       "</div>"
      ],
      "text/plain": [
       "   itemID  brand  feature_1  feature_2  feature_3  feature_4  feature_5  \\\n",
       "0   22665    861          4          0        490          2         66   \n",
       "1   28640   1366         10          1        537          0        101   \n",
       "2   13526   1090         10          0        511          0          0   \n",
       "3   21399   1090         10          1        511          0          0   \n",
       "4    8504    768          4          1        484          0         66   \n",
       "\n",
       "                                          categories  \n",
       "0                            [2890, 855, 3908, 3909]  \n",
       "1                                             [4300]  \n",
       "2  [3270, 163, 284, 1694, 12, 3837, 2422, 3595, 3...  \n",
       "3                                             [3270]  \n",
       "4                                             [2470]  "
      ]
     },
     "execution_count": 4,
     "metadata": {},
     "output_type": "execute_result"
    }
   ],
   "source": [
    "df_cat_hierarchy = pd.read_csv('category_hierarchy.csv', delimiter='|',error_bad_lines=False)\n",
    "df_items = pd.read_csv('items.csv',sep='|',error_bad_lines=False)\n",
    "# fill NA values in category column\n",
    "df_items[\"categories\"] = df_items[\"categories\"].fillna('[4300]')\n",
    "df_items.head()"
   ]
  },
  {
   "cell_type": "code",
   "execution_count": 5,
   "id": "4b9d90d4",
   "metadata": {},
   "outputs": [],
   "source": [
    "# transform categories from str to int list\n",
    "df_items['categories'] = df_items['categories'].map(lambda x: list(map(int,x.split(\"[\")[1].split(\"]\")[0].split(\",\"))))"
   ]
  },
  {
   "cell_type": "code",
   "execution_count": 6,
   "id": "5268a008",
   "metadata": {
    "scrolled": true
   },
   "outputs": [
    {
     "data": {
      "text/html": [
       "<div>\n",
       "<style scoped>\n",
       "    .dataframe tbody tr th:only-of-type {\n",
       "        vertical-align: middle;\n",
       "    }\n",
       "\n",
       "    .dataframe tbody tr th {\n",
       "        vertical-align: top;\n",
       "    }\n",
       "\n",
       "    .dataframe thead th {\n",
       "        text-align: right;\n",
       "    }\n",
       "</style>\n",
       "<table border=\"1\" class=\"dataframe\">\n",
       "  <thead>\n",
       "    <tr style=\"text-align: right;\">\n",
       "      <th></th>\n",
       "      <th>parent_category</th>\n",
       "    </tr>\n",
       "    <tr>\n",
       "      <th>category</th>\n",
       "      <th></th>\n",
       "    </tr>\n",
       "  </thead>\n",
       "  <tbody>\n",
       "    <tr>\n",
       "      <th>0</th>\n",
       "      <td>75</td>\n",
       "    </tr>\n",
       "    <tr>\n",
       "      <th>1</th>\n",
       "      <td>1499</td>\n",
       "    </tr>\n",
       "    <tr>\n",
       "      <th>2</th>\n",
       "      <td>1082</td>\n",
       "    </tr>\n",
       "    <tr>\n",
       "      <th>3</th>\n",
       "      <td>3498</td>\n",
       "    </tr>\n",
       "    <tr>\n",
       "      <th>4</th>\n",
       "      <td>1623</td>\n",
       "    </tr>\n",
       "  </tbody>\n",
       "</table>\n",
       "</div>"
      ],
      "text/plain": [
       "          parent_category\n",
       "category                 \n",
       "0                      75\n",
       "1                    1499\n",
       "2                    1082\n",
       "3                    3498\n",
       "4                    1623"
      ]
     },
     "execution_count": 6,
     "metadata": {},
     "output_type": "execute_result"
    }
   ],
   "source": [
    "# from categories list generate parent_categories\n",
    "df_indexed = df_cat_hierarchy.set_index(['category'])\n",
    "df_indexed.head()"
   ]
  },
  {
   "cell_type": "code",
   "execution_count": 7,
   "id": "2a61d0c4",
   "metadata": {
    "scrolled": true
   },
   "outputs": [
    {
     "data": {
      "text/plain": [
       "3898    3097\n",
       "2793     109\n",
       "252       93\n",
       "2346      81\n",
       "3624      71\n",
       "Name: layer4, dtype: int64"
      ]
     },
     "execution_count": 7,
     "metadata": {},
     "output_type": "execute_result"
    }
   ],
   "source": [
    "flat_hierachy = df_indexed.copy()\n",
    "flat_hierachy['layer3'] = df_indexed['parent_category'].map(lambda x: df_indexed.loc[x]['parent_category'])\n",
    "flat_hierachy['layer4'] = flat_hierachy['layer3'].map(lambda x: df_indexed.loc[x]['parent_category'])\n",
    "\n",
    "\n",
    "flat_hierachy['layer4'].value_counts().head()"
   ]
  },
  {
   "cell_type": "code",
   "execution_count": 8,
   "id": "f33ca464",
   "metadata": {
    "scrolled": true
   },
   "outputs": [],
   "source": [
    "# set parent of null as null\n",
    "df_indexed.loc[4300] = [4300]"
   ]
  },
  {
   "cell_type": "markdown",
   "id": "5d5939d2",
   "metadata": {},
   "source": [
    "## Now flatten the categories\n",
    "Each row needs to contain only one category, not a list of categories"
   ]
  },
  {
   "cell_type": "code",
   "execution_count": 9,
   "id": "5d56f3ad",
   "metadata": {},
   "outputs": [
    {
     "data": {
      "text/html": [
       "<div>\n",
       "<style scoped>\n",
       "    .dataframe tbody tr th:only-of-type {\n",
       "        vertical-align: middle;\n",
       "    }\n",
       "\n",
       "    .dataframe tbody tr th {\n",
       "        vertical-align: top;\n",
       "    }\n",
       "\n",
       "    .dataframe thead th {\n",
       "        text-align: right;\n",
       "    }\n",
       "</style>\n",
       "<table border=\"1\" class=\"dataframe\">\n",
       "  <thead>\n",
       "    <tr style=\"text-align: right;\">\n",
       "      <th></th>\n",
       "      <th>itemID</th>\n",
       "      <th>brand</th>\n",
       "      <th>feature_1</th>\n",
       "      <th>feature_2</th>\n",
       "      <th>feature_3</th>\n",
       "      <th>feature_4</th>\n",
       "      <th>feature_5</th>\n",
       "      <th>categories</th>\n",
       "    </tr>\n",
       "  </thead>\n",
       "  <tbody>\n",
       "    <tr>\n",
       "      <th>0</th>\n",
       "      <td>22665</td>\n",
       "      <td>861</td>\n",
       "      <td>4</td>\n",
       "      <td>0</td>\n",
       "      <td>490</td>\n",
       "      <td>2</td>\n",
       "      <td>66</td>\n",
       "      <td>2890</td>\n",
       "    </tr>\n",
       "    <tr>\n",
       "      <th>0</th>\n",
       "      <td>22665</td>\n",
       "      <td>861</td>\n",
       "      <td>4</td>\n",
       "      <td>0</td>\n",
       "      <td>490</td>\n",
       "      <td>2</td>\n",
       "      <td>66</td>\n",
       "      <td>855</td>\n",
       "    </tr>\n",
       "    <tr>\n",
       "      <th>0</th>\n",
       "      <td>22665</td>\n",
       "      <td>861</td>\n",
       "      <td>4</td>\n",
       "      <td>0</td>\n",
       "      <td>490</td>\n",
       "      <td>2</td>\n",
       "      <td>66</td>\n",
       "      <td>3908</td>\n",
       "    </tr>\n",
       "    <tr>\n",
       "      <th>0</th>\n",
       "      <td>22665</td>\n",
       "      <td>861</td>\n",
       "      <td>4</td>\n",
       "      <td>0</td>\n",
       "      <td>490</td>\n",
       "      <td>2</td>\n",
       "      <td>66</td>\n",
       "      <td>3909</td>\n",
       "    </tr>\n",
       "    <tr>\n",
       "      <th>1</th>\n",
       "      <td>28640</td>\n",
       "      <td>1366</td>\n",
       "      <td>10</td>\n",
       "      <td>1</td>\n",
       "      <td>537</td>\n",
       "      <td>0</td>\n",
       "      <td>101</td>\n",
       "      <td>4300</td>\n",
       "    </tr>\n",
       "  </tbody>\n",
       "</table>\n",
       "</div>"
      ],
      "text/plain": [
       "   itemID  brand  feature_1  feature_2  feature_3  feature_4  feature_5  \\\n",
       "0   22665    861          4          0        490          2         66   \n",
       "0   22665    861          4          0        490          2         66   \n",
       "0   22665    861          4          0        490          2         66   \n",
       "0   22665    861          4          0        490          2         66   \n",
       "1   28640   1366         10          1        537          0        101   \n",
       "\n",
       "  categories  \n",
       "0       2890  \n",
       "0        855  \n",
       "0       3908  \n",
       "0       3909  \n",
       "1       4300  "
      ]
     },
     "execution_count": 9,
     "metadata": {},
     "output_type": "execute_result"
    }
   ],
   "source": [
    "items_flat = df_items.copy()\n",
    "items_flat = items_flat.explode('categories')\n",
    "items_flat.head()"
   ]
  },
  {
   "cell_type": "code",
   "execution_count": 12,
   "id": "730321b7",
   "metadata": {},
   "outputs": [],
   "source": [
    "# parent_categories generate\n",
    "items_flat['parent_categories'] = items_flat['categories'].map(lambda x : df_indexed.loc[x]['parent_category'].tolist())"
   ]
  },
  {
   "cell_type": "code",
   "execution_count": 17,
   "id": "86734b88",
   "metadata": {
    "scrolled": true
   },
   "outputs": [
    {
     "data": {
      "text/html": [
       "<div>\n",
       "<style scoped>\n",
       "    .dataframe tbody tr th:only-of-type {\n",
       "        vertical-align: middle;\n",
       "    }\n",
       "\n",
       "    .dataframe tbody tr th {\n",
       "        vertical-align: top;\n",
       "    }\n",
       "\n",
       "    .dataframe thead th {\n",
       "        text-align: right;\n",
       "    }\n",
       "</style>\n",
       "<table border=\"1\" class=\"dataframe\">\n",
       "  <thead>\n",
       "    <tr style=\"text-align: right;\">\n",
       "      <th></th>\n",
       "      <th>itemID</th>\n",
       "      <th>brand</th>\n",
       "      <th>feature_1</th>\n",
       "      <th>feature_2</th>\n",
       "      <th>feature_3</th>\n",
       "      <th>feature_4</th>\n",
       "      <th>feature_5</th>\n",
       "      <th>categories</th>\n",
       "      <th>parent_categories</th>\n",
       "      <th>grandparent_categories</th>\n",
       "      <th>grand_grand_par_categories</th>\n",
       "    </tr>\n",
       "  </thead>\n",
       "  <tbody>\n",
       "    <tr>\n",
       "      <th>0</th>\n",
       "      <td>22665</td>\n",
       "      <td>861</td>\n",
       "      <td>4</td>\n",
       "      <td>0</td>\n",
       "      <td>490</td>\n",
       "      <td>2</td>\n",
       "      <td>66</td>\n",
       "      <td>2890</td>\n",
       "      <td>2832</td>\n",
       "      <td>2838</td>\n",
       "      <td>3898</td>\n",
       "    </tr>\n",
       "    <tr>\n",
       "      <th>0</th>\n",
       "      <td>22665</td>\n",
       "      <td>861</td>\n",
       "      <td>4</td>\n",
       "      <td>0</td>\n",
       "      <td>490</td>\n",
       "      <td>2</td>\n",
       "      <td>66</td>\n",
       "      <td>855</td>\n",
       "      <td>1178</td>\n",
       "      <td>2012</td>\n",
       "      <td>3898</td>\n",
       "    </tr>\n",
       "    <tr>\n",
       "      <th>0</th>\n",
       "      <td>22665</td>\n",
       "      <td>861</td>\n",
       "      <td>4</td>\n",
       "      <td>0</td>\n",
       "      <td>490</td>\n",
       "      <td>2</td>\n",
       "      <td>66</td>\n",
       "      <td>3908</td>\n",
       "      <td>3898</td>\n",
       "      <td>3898</td>\n",
       "      <td>3898</td>\n",
       "    </tr>\n",
       "    <tr>\n",
       "      <th>0</th>\n",
       "      <td>22665</td>\n",
       "      <td>861</td>\n",
       "      <td>4</td>\n",
       "      <td>0</td>\n",
       "      <td>490</td>\n",
       "      <td>2</td>\n",
       "      <td>66</td>\n",
       "      <td>3909</td>\n",
       "      <td>3898</td>\n",
       "      <td>3898</td>\n",
       "      <td>3898</td>\n",
       "    </tr>\n",
       "    <tr>\n",
       "      <th>1</th>\n",
       "      <td>28640</td>\n",
       "      <td>1366</td>\n",
       "      <td>10</td>\n",
       "      <td>1</td>\n",
       "      <td>537</td>\n",
       "      <td>0</td>\n",
       "      <td>101</td>\n",
       "      <td>4300</td>\n",
       "      <td>4300</td>\n",
       "      <td>4300</td>\n",
       "      <td>4300</td>\n",
       "    </tr>\n",
       "  </tbody>\n",
       "</table>\n",
       "</div>"
      ],
      "text/plain": [
       "   itemID  brand  feature_1  feature_2  feature_3  feature_4  feature_5  \\\n",
       "0   22665    861          4          0        490          2         66   \n",
       "0   22665    861          4          0        490          2         66   \n",
       "0   22665    861          4          0        490          2         66   \n",
       "0   22665    861          4          0        490          2         66   \n",
       "1   28640   1366         10          1        537          0        101   \n",
       "\n",
       "  categories parent_categories grandparent_categories  \\\n",
       "0       2890              2832                   2838   \n",
       "0        855              1178                   2012   \n",
       "0       3908              3898                   3898   \n",
       "0       3909              3898                   3898   \n",
       "1       4300              4300                   4300   \n",
       "\n",
       "  grand_grand_par_categories  \n",
       "0                       3898  \n",
       "0                       3898  \n",
       "0                       3898  \n",
       "0                       3898  \n",
       "1                       4300  "
      ]
     },
     "execution_count": 17,
     "metadata": {},
     "output_type": "execute_result"
    }
   ],
   "source": [
    "items_flat.head()"
   ]
  },
  {
   "cell_type": "code",
   "execution_count": 18,
   "id": "22012d9d",
   "metadata": {},
   "outputs": [],
   "source": [
    "# grandparent_categories generate\n",
    "items_flat['grandparent_categories'] = items_flat['parent_categories'].map(lambda x : df_indexed.loc[x]['parent_category'].tolist())"
   ]
  },
  {
   "cell_type": "code",
   "execution_count": 19,
   "id": "2eb6e459",
   "metadata": {},
   "outputs": [],
   "source": [
    "# grand_grand_par_categories generate\n",
    "items_flat['grand_grand_par_categories'] = items_flat['grandparent_categories'].map(lambda x : df_indexed.loc[x]['parent_category'].tolist())"
   ]
  },
  {
   "cell_type": "markdown",
   "id": "00043732",
   "metadata": {},
   "source": [
    "### Now join the category information with the orders"
   ]
  },
  {
   "cell_type": "code",
   "execution_count": 21,
   "id": "86fcae2e",
   "metadata": {},
   "outputs": [
    {
     "name": "stdout",
     "output_type": "stream",
     "text": [
      "4890815 data entries\n"
     ]
    },
    {
     "data": {
      "text/html": [
       "<div>\n",
       "<style scoped>\n",
       "    .dataframe tbody tr th:only-of-type {\n",
       "        vertical-align: middle;\n",
       "    }\n",
       "\n",
       "    .dataframe tbody tr th {\n",
       "        vertical-align: top;\n",
       "    }\n",
       "\n",
       "    .dataframe thead th {\n",
       "        text-align: right;\n",
       "    }\n",
       "</style>\n",
       "<table border=\"1\" class=\"dataframe\">\n",
       "  <thead>\n",
       "    <tr style=\"text-align: right;\">\n",
       "      <th></th>\n",
       "      <th>date</th>\n",
       "      <th>userID</th>\n",
       "      <th>itemID</th>\n",
       "      <th>order</th>\n",
       "      <th>brand</th>\n",
       "      <th>feature_1</th>\n",
       "      <th>feature_2</th>\n",
       "      <th>feature_3</th>\n",
       "      <th>feature_4</th>\n",
       "      <th>feature_5</th>\n",
       "      <th>categories</th>\n",
       "      <th>parent_categories</th>\n",
       "      <th>grandparent_categories</th>\n",
       "      <th>grand_grand_par_categories</th>\n",
       "    </tr>\n",
       "  </thead>\n",
       "  <tbody>\n",
       "    <tr>\n",
       "      <th>0</th>\n",
       "      <td>2020-06-01</td>\n",
       "      <td>38769</td>\n",
       "      <td>3477</td>\n",
       "      <td>1</td>\n",
       "      <td>186</td>\n",
       "      <td>6</td>\n",
       "      <td>0</td>\n",
       "      <td>196</td>\n",
       "      <td>0</td>\n",
       "      <td>45</td>\n",
       "      <td>74</td>\n",
       "      <td>3056</td>\n",
       "      <td>3898</td>\n",
       "      <td>3898</td>\n",
       "    </tr>\n",
       "    <tr>\n",
       "      <th>1</th>\n",
       "      <td>2020-06-01</td>\n",
       "      <td>38769</td>\n",
       "      <td>3477</td>\n",
       "      <td>1</td>\n",
       "      <td>186</td>\n",
       "      <td>6</td>\n",
       "      <td>0</td>\n",
       "      <td>196</td>\n",
       "      <td>0</td>\n",
       "      <td>45</td>\n",
       "      <td>4109</td>\n",
       "      <td>3898</td>\n",
       "      <td>3898</td>\n",
       "      <td>3898</td>\n",
       "    </tr>\n",
       "    <tr>\n",
       "      <th>2</th>\n",
       "      <td>2020-06-01</td>\n",
       "      <td>38769</td>\n",
       "      <td>3477</td>\n",
       "      <td>1</td>\n",
       "      <td>186</td>\n",
       "      <td>6</td>\n",
       "      <td>0</td>\n",
       "      <td>196</td>\n",
       "      <td>0</td>\n",
       "      <td>45</td>\n",
       "      <td>3867</td>\n",
       "      <td>1543</td>\n",
       "      <td>3898</td>\n",
       "      <td>3898</td>\n",
       "    </tr>\n",
       "    <tr>\n",
       "      <th>3</th>\n",
       "      <td>2020-06-01</td>\n",
       "      <td>38769</td>\n",
       "      <td>3477</td>\n",
       "      <td>1</td>\n",
       "      <td>186</td>\n",
       "      <td>6</td>\n",
       "      <td>0</td>\n",
       "      <td>196</td>\n",
       "      <td>0</td>\n",
       "      <td>45</td>\n",
       "      <td>803</td>\n",
       "      <td>1543</td>\n",
       "      <td>3898</td>\n",
       "      <td>3898</td>\n",
       "    </tr>\n",
       "    <tr>\n",
       "      <th>4</th>\n",
       "      <td>2020-06-01</td>\n",
       "      <td>38769</td>\n",
       "      <td>3477</td>\n",
       "      <td>1</td>\n",
       "      <td>186</td>\n",
       "      <td>6</td>\n",
       "      <td>0</td>\n",
       "      <td>196</td>\n",
       "      <td>0</td>\n",
       "      <td>45</td>\n",
       "      <td>4053</td>\n",
       "      <td>3898</td>\n",
       "      <td>3898</td>\n",
       "      <td>3898</td>\n",
       "    </tr>\n",
       "  </tbody>\n",
       "</table>\n",
       "</div>"
      ],
      "text/plain": [
       "         date  userID  itemID  order  brand  feature_1  feature_2  feature_3  \\\n",
       "0  2020-06-01   38769    3477      1    186          6          0        196   \n",
       "1  2020-06-01   38769    3477      1    186          6          0        196   \n",
       "2  2020-06-01   38769    3477      1    186          6          0        196   \n",
       "3  2020-06-01   38769    3477      1    186          6          0        196   \n",
       "4  2020-06-01   38769    3477      1    186          6          0        196   \n",
       "\n",
       "   feature_4  feature_5 categories parent_categories grandparent_categories  \\\n",
       "0          0         45         74              3056                   3898   \n",
       "1          0         45       4109              3898                   3898   \n",
       "2          0         45       3867              1543                   3898   \n",
       "3          0         45        803              1543                   3898   \n",
       "4          0         45       4053              3898                   3898   \n",
       "\n",
       "  grand_grand_par_categories  \n",
       "0                       3898  \n",
       "1                       3898  \n",
       "2                       3898  \n",
       "3                       3898  \n",
       "4                       3898  "
      ]
     },
     "execution_count": 21,
     "metadata": {},
     "output_type": "execute_result"
    }
   ],
   "source": [
    "df_orders = pd.read_csv(\"orders_before_dec.csv\", sep = \"|\")\n",
    "data = pd.merge(df_orders, items_flat, on=\"itemID\")\n",
    "print(len(data), \"data entries\")\n",
    "data.head()"
   ]
  },
  {
   "cell_type": "code",
   "execution_count": 20,
   "id": "f216f94e",
   "metadata": {},
   "outputs": [
    {
     "name": "stdout",
     "output_type": "stream",
     "text": [
      "count    667301.000000\n",
      "mean          1.149603\n",
      "std           0.524784\n",
      "min           1.000000\n",
      "25%           1.000000\n",
      "50%           1.000000\n",
      "75%           1.000000\n",
      "max          23.000000\n",
      "dtype: float64\n"
     ]
    },
    {
     "data": {
      "text/plain": [
       "median    1.0\n",
       "dtype: float64"
      ]
     },
     "execution_count": 20,
     "metadata": {},
     "output_type": "execute_result"
    }
   ],
   "source": [
    "user_item_group = data.groupby([\"userID\", \"itemID\"]).size()\n",
    "print(user_item_group.describe())\n",
    "user_item_group.agg(['median'])"
   ]
  },
  {
   "cell_type": "code",
   "execution_count": null,
   "id": "db0beb69",
   "metadata": {},
   "outputs": [],
   "source": []
  }
 ],
 "metadata": {
  "kernelspec": {
   "display_name": "Python 3",
   "language": "python",
   "name": "python3"
  },
  "language_info": {
   "codemirror_mode": {
    "name": "ipython",
    "version": 3
   },
   "file_extension": ".py",
   "mimetype": "text/x-python",
   "name": "python",
   "nbconvert_exporter": "python",
   "pygments_lexer": "ipython3",
   "version": "3.6.13"
  }
 },
 "nbformat": 4,
 "nbformat_minor": 5
}