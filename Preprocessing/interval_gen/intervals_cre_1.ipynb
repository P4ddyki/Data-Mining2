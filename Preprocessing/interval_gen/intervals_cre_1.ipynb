{
 "cells": [
  {
   "cell_type": "code",
   "execution_count": 1,
   "id": "c7d57105",
   "metadata": {},
   "outputs": [],
   "source": [
    "import pandas as pd\n",
    "import numpy as np"
   ]
  },
  {
   "cell_type": "code",
   "execution_count": 2,
   "id": "36931e9e",
   "metadata": {},
   "outputs": [],
   "source": [
    "orders_jan = pd.read_csv('orders_before_jan.csv', delimiter='|')"
   ]
  },
  {
   "cell_type": "code",
   "execution_count": 3,
   "id": "28dd8a35",
   "metadata": {},
   "outputs": [],
   "source": [
    "orders_jan['comID'] = orders_jan['userID'].astype(str) + orders_jan['itemID'].astype(str)"
   ]
  },
  {
   "cell_type": "code",
   "execution_count": 4,
   "id": "d21b19eb",
   "metadata": {},
   "outputs": [],
   "source": [
    "orders_jan['date'] = pd.to_datetime(orders_jan['date'])"
   ]
  },
  {
   "cell_type": "code",
   "execution_count": 6,
   "id": "324e06ac",
   "metadata": {},
   "outputs": [],
   "source": [
    "groups = orders_jan.groupby('comID')"
   ]
  },
  {
   "cell_type": "code",
   "execution_count": 7,
   "id": "2ced0279",
   "metadata": {},
   "outputs": [],
   "source": [
    "groups = list(groups)"
   ]
  },
  {
   "cell_type": "code",
   "execution_count": 1,
   "id": "dd3ae06a",
   "metadata": {},
   "outputs": [],
   "source": [
    "#len(groups)\n",
    "#group=groups[4]\n",
    "#display(group)\n",
    "#df = group[1]\n",
    "#display(df)\n",
    "#df['interval'] = df['date'].sub(df['date'].shift())\n",
    "#df['interval'].iloc[0] = df['date'].iloc[0]\n",
    "#display(df)"
   ]
  },
  {
   "cell_type": "code",
   "execution_count": 12,
   "id": "0d00fe2d",
   "metadata": {},
   "outputs": [],
   "source": [
    "#sub_group = groups[:10]\n",
    "i = 1"
   ]
  },
  {
   "cell_type": "code",
   "execution_count": 14,
   "id": "36a43e50",
   "metadata": {},
   "outputs": [
    {
     "name": "stderr",
     "output_type": "stream",
     "text": [
      "C:\\Users\\Martin\\anaconda3\\lib\\site-packages\\pandas\\core\\indexing.py:1637: SettingWithCopyWarning: \n",
      "A value is trying to be set on a copy of a slice from a DataFrame\n",
      "\n",
      "See the caveats in the documentation: https://pandas.pydata.org/pandas-docs/stable/user_guide/indexing.html#returning-a-view-versus-a-copy\n",
      "  self._setitem_single_block(indexer, value, name)\n"
     ]
    },
    {
     "data": {
      "text/plain": [
       "5000"
      ]
     },
     "metadata": {},
     "output_type": "display_data"
    },
    {
     "data": {
      "text/plain": [
       "10000"
      ]
     },
     "metadata": {},
     "output_type": "display_data"
    },
    {
     "data": {
      "text/plain": [
       "15000"
      ]
     },
     "metadata": {},
     "output_type": "display_data"
    },
    {
     "data": {
      "text/plain": [
       "20000"
      ]
     },
     "metadata": {},
     "output_type": "display_data"
    },
    {
     "data": {
      "text/plain": [
       "25000"
      ]
     },
     "metadata": {},
     "output_type": "display_data"
    },
    {
     "data": {
      "text/plain": [
       "30000"
      ]
     },
     "metadata": {},
     "output_type": "display_data"
    },
    {
     "data": {
      "text/plain": [
       "35000"
      ]
     },
     "metadata": {},
     "output_type": "display_data"
    },
    {
     "data": {
      "text/plain": [
       "40000"
      ]
     },
     "metadata": {},
     "output_type": "display_data"
    },
    {
     "data": {
      "text/plain": [
       "45000"
      ]
     },
     "metadata": {},
     "output_type": "display_data"
    },
    {
     "data": {
      "text/plain": [
       "50000"
      ]
     },
     "metadata": {},
     "output_type": "display_data"
    },
    {
     "data": {
      "text/plain": [
       "55000"
      ]
     },
     "metadata": {},
     "output_type": "display_data"
    },
    {
     "data": {
      "text/plain": [
       "60000"
      ]
     },
     "metadata": {},
     "output_type": "display_data"
    },
    {
     "data": {
      "text/plain": [
       "65000"
      ]
     },
     "metadata": {},
     "output_type": "display_data"
    },
    {
     "data": {
      "text/plain": [
       "70000"
      ]
     },
     "metadata": {},
     "output_type": "display_data"
    },
    {
     "data": {
      "text/plain": [
       "75000"
      ]
     },
     "metadata": {},
     "output_type": "display_data"
    },
    {
     "data": {
      "text/plain": [
       "80000"
      ]
     },
     "metadata": {},
     "output_type": "display_data"
    },
    {
     "data": {
      "text/plain": [
       "85000"
      ]
     },
     "metadata": {},
     "output_type": "display_data"
    },
    {
     "data": {
      "text/plain": [
       "90000"
      ]
     },
     "metadata": {},
     "output_type": "display_data"
    },
    {
     "data": {
      "text/plain": [
       "95000"
      ]
     },
     "metadata": {},
     "output_type": "display_data"
    },
    {
     "data": {
      "text/plain": [
       "100000"
      ]
     },
     "metadata": {},
     "output_type": "display_data"
    },
    {
     "data": {
      "text/plain": [
       "105000"
      ]
     },
     "metadata": {},
     "output_type": "display_data"
    },
    {
     "data": {
      "text/plain": [
       "110000"
      ]
     },
     "metadata": {},
     "output_type": "display_data"
    },
    {
     "data": {
      "text/plain": [
       "115000"
      ]
     },
     "metadata": {},
     "output_type": "display_data"
    },
    {
     "data": {
      "text/plain": [
       "120000"
      ]
     },
     "metadata": {},
     "output_type": "display_data"
    },
    {
     "data": {
      "text/plain": [
       "125000"
      ]
     },
     "metadata": {},
     "output_type": "display_data"
    },
    {
     "data": {
      "text/plain": [
       "130000"
      ]
     },
     "metadata": {},
     "output_type": "display_data"
    },
    {
     "data": {
      "text/plain": [
       "135000"
      ]
     },
     "metadata": {},
     "output_type": "display_data"
    },
    {
     "data": {
      "text/plain": [
       "140000"
      ]
     },
     "metadata": {},
     "output_type": "display_data"
    },
    {
     "data": {
      "text/plain": [
       "145000"
      ]
     },
     "metadata": {},
     "output_type": "display_data"
    },
    {
     "data": {
      "text/plain": [
       "150000"
      ]
     },
     "metadata": {},
     "output_type": "display_data"
    },
    {
     "data": {
      "text/plain": [
       "155000"
      ]
     },
     "metadata": {},
     "output_type": "display_data"
    },
    {
     "data": {
      "text/plain": [
       "160000"
      ]
     },
     "metadata": {},
     "output_type": "display_data"
    },
    {
     "data": {
      "text/plain": [
       "165000"
      ]
     },
     "metadata": {},
     "output_type": "display_data"
    },
    {
     "data": {
      "text/plain": [
       "170000"
      ]
     },
     "metadata": {},
     "output_type": "display_data"
    },
    {
     "data": {
      "text/plain": [
       "175000"
      ]
     },
     "metadata": {},
     "output_type": "display_data"
    },
    {
     "data": {
      "text/plain": [
       "180000"
      ]
     },
     "metadata": {},
     "output_type": "display_data"
    },
    {
     "data": {
      "text/plain": [
       "185000"
      ]
     },
     "metadata": {},
     "output_type": "display_data"
    },
    {
     "data": {
      "text/plain": [
       "190000"
      ]
     },
     "metadata": {},
     "output_type": "display_data"
    },
    {
     "data": {
      "text/plain": [
       "195000"
      ]
     },
     "metadata": {},
     "output_type": "display_data"
    },
    {
     "data": {
      "text/plain": [
       "200000"
      ]
     },
     "metadata": {},
     "output_type": "display_data"
    },
    {
     "data": {
      "text/plain": [
       "205000"
      ]
     },
     "metadata": {},
     "output_type": "display_data"
    },
    {
     "data": {
      "text/plain": [
       "210000"
      ]
     },
     "metadata": {},
     "output_type": "display_data"
    },
    {
     "data": {
      "text/plain": [
       "215000"
      ]
     },
     "metadata": {},
     "output_type": "display_data"
    },
    {
     "data": {
      "text/plain": [
       "220000"
      ]
     },
     "metadata": {},
     "output_type": "display_data"
    },
    {
     "data": {
      "text/plain": [
       "225000"
      ]
     },
     "metadata": {},
     "output_type": "display_data"
    },
    {
     "data": {
      "text/plain": [
       "230000"
      ]
     },
     "metadata": {},
     "output_type": "display_data"
    },
    {
     "data": {
      "text/plain": [
       "235000"
      ]
     },
     "metadata": {},
     "output_type": "display_data"
    },
    {
     "data": {
      "text/plain": [
       "240000"
      ]
     },
     "metadata": {},
     "output_type": "display_data"
    },
    {
     "data": {
      "text/plain": [
       "245000"
      ]
     },
     "metadata": {},
     "output_type": "display_data"
    },
    {
     "data": {
      "text/plain": [
       "250000"
      ]
     },
     "metadata": {},
     "output_type": "display_data"
    },
    {
     "data": {
      "text/plain": [
       "255000"
      ]
     },
     "metadata": {},
     "output_type": "display_data"
    },
    {
     "data": {
      "text/plain": [
       "260000"
      ]
     },
     "metadata": {},
     "output_type": "display_data"
    },
    {
     "data": {
      "text/plain": [
       "265000"
      ]
     },
     "metadata": {},
     "output_type": "display_data"
    },
    {
     "data": {
      "text/plain": [
       "270000"
      ]
     },
     "metadata": {},
     "output_type": "display_data"
    },
    {
     "data": {
      "text/plain": [
       "275000"
      ]
     },
     "metadata": {},
     "output_type": "display_data"
    },
    {
     "data": {
      "text/plain": [
       "280000"
      ]
     },
     "metadata": {},
     "output_type": "display_data"
    },
    {
     "data": {
      "text/plain": [
       "285000"
      ]
     },
     "metadata": {},
     "output_type": "display_data"
    },
    {
     "data": {
      "text/plain": [
       "290000"
      ]
     },
     "metadata": {},
     "output_type": "display_data"
    },
    {
     "data": {
      "text/plain": [
       "295000"
      ]
     },
     "metadata": {},
     "output_type": "display_data"
    },
    {
     "data": {
      "text/plain": [
       "300000"
      ]
     },
     "metadata": {},
     "output_type": "display_data"
    },
    {
     "data": {
      "text/plain": [
       "305000"
      ]
     },
     "metadata": {},
     "output_type": "display_data"
    },
    {
     "data": {
      "text/plain": [
       "310000"
      ]
     },
     "metadata": {},
     "output_type": "display_data"
    },
    {
     "data": {
      "text/plain": [
       "315000"
      ]
     },
     "metadata": {},
     "output_type": "display_data"
    },
    {
     "data": {
      "text/plain": [
       "320000"
      ]
     },
     "metadata": {},
     "output_type": "display_data"
    },
    {
     "data": {
      "text/plain": [
       "325000"
      ]
     },
     "metadata": {},
     "output_type": "display_data"
    },
    {
     "data": {
      "text/plain": [
       "330000"
      ]
     },
     "metadata": {},
     "output_type": "display_data"
    },
    {
     "data": {
      "text/plain": [
       "335000"
      ]
     },
     "metadata": {},
     "output_type": "display_data"
    },
    {
     "data": {
      "text/plain": [
       "340000"
      ]
     },
     "metadata": {},
     "output_type": "display_data"
    },
    {
     "data": {
      "text/plain": [
       "345000"
      ]
     },
     "metadata": {},
     "output_type": "display_data"
    },
    {
     "data": {
      "text/plain": [
       "350000"
      ]
     },
     "metadata": {},
     "output_type": "display_data"
    },
    {
     "data": {
      "text/plain": [
       "355000"
      ]
     },
     "metadata": {},
     "output_type": "display_data"
    },
    {
     "data": {
      "text/plain": [
       "360000"
      ]
     },
     "metadata": {},
     "output_type": "display_data"
    },
    {
     "data": {
      "text/plain": [
       "365000"
      ]
     },
     "metadata": {},
     "output_type": "display_data"
    },
    {
     "data": {
      "text/plain": [
       "370000"
      ]
     },
     "metadata": {},
     "output_type": "display_data"
    },
    {
     "data": {
      "text/plain": [
       "375000"
      ]
     },
     "metadata": {},
     "output_type": "display_data"
    },
    {
     "data": {
      "text/plain": [
       "380000"
      ]
     },
     "metadata": {},
     "output_type": "display_data"
    },
    {
     "data": {
      "text/plain": [
       "385000"
      ]
     },
     "metadata": {},
     "output_type": "display_data"
    },
    {
     "data": {
      "text/plain": [
       "390000"
      ]
     },
     "metadata": {},
     "output_type": "display_data"
    },
    {
     "data": {
      "text/plain": [
       "395000"
      ]
     },
     "metadata": {},
     "output_type": "display_data"
    },
    {
     "data": {
      "text/plain": [
       "400000"
      ]
     },
     "metadata": {},
     "output_type": "display_data"
    },
    {
     "data": {
      "text/plain": [
       "405000"
      ]
     },
     "metadata": {},
     "output_type": "display_data"
    },
    {
     "data": {
      "text/plain": [
       "410000"
      ]
     },
     "metadata": {},
     "output_type": "display_data"
    },
    {
     "data": {
      "text/plain": [
       "415000"
      ]
     },
     "metadata": {},
     "output_type": "display_data"
    },
    {
     "data": {
      "text/plain": [
       "420000"
      ]
     },
     "metadata": {},
     "output_type": "display_data"
    },
    {
     "data": {
      "text/plain": [
       "425000"
      ]
     },
     "metadata": {},
     "output_type": "display_data"
    },
    {
     "data": {
      "text/plain": [
       "430000"
      ]
     },
     "metadata": {},
     "output_type": "display_data"
    },
    {
     "data": {
      "text/plain": [
       "435000"
      ]
     },
     "metadata": {},
     "output_type": "display_data"
    },
    {
     "data": {
      "text/plain": [
       "440000"
      ]
     },
     "metadata": {},
     "output_type": "display_data"
    },
    {
     "data": {
      "text/plain": [
       "445000"
      ]
     },
     "metadata": {},
     "output_type": "display_data"
    },
    {
     "data": {
      "text/plain": [
       "450000"
      ]
     },
     "metadata": {},
     "output_type": "display_data"
    },
    {
     "data": {
      "text/plain": [
       "455000"
      ]
     },
     "metadata": {},
     "output_type": "display_data"
    },
    {
     "data": {
      "text/plain": [
       "460000"
      ]
     },
     "metadata": {},
     "output_type": "display_data"
    },
    {
     "data": {
      "text/plain": [
       "465000"
      ]
     },
     "metadata": {},
     "output_type": "display_data"
    },
    {
     "data": {
      "text/plain": [
       "470000"
      ]
     },
     "metadata": {},
     "output_type": "display_data"
    },
    {
     "data": {
      "text/plain": [
       "475000"
      ]
     },
     "metadata": {},
     "output_type": "display_data"
    },
    {
     "data": {
      "text/plain": [
       "480000"
      ]
     },
     "metadata": {},
     "output_type": "display_data"
    },
    {
     "data": {
      "text/plain": [
       "485000"
      ]
     },
     "metadata": {},
     "output_type": "display_data"
    },
    {
     "data": {
      "text/plain": [
       "490000"
      ]
     },
     "metadata": {},
     "output_type": "display_data"
    },
    {
     "data": {
      "text/plain": [
       "495000"
      ]
     },
     "metadata": {},
     "output_type": "display_data"
    },
    {
     "data": {
      "text/plain": [
       "500000"
      ]
     },
     "metadata": {},
     "output_type": "display_data"
    },
    {
     "data": {
      "text/plain": [
       "505000"
      ]
     },
     "metadata": {},
     "output_type": "display_data"
    },
    {
     "data": {
      "text/plain": [
       "510000"
      ]
     },
     "metadata": {},
     "output_type": "display_data"
    },
    {
     "data": {
      "text/plain": [
       "515000"
      ]
     },
     "metadata": {},
     "output_type": "display_data"
    },
    {
     "data": {
      "text/plain": [
       "520000"
      ]
     },
     "metadata": {},
     "output_type": "display_data"
    },
    {
     "data": {
      "text/plain": [
       "525000"
      ]
     },
     "metadata": {},
     "output_type": "display_data"
    },
    {
     "data": {
      "text/plain": [
       "530000"
      ]
     },
     "metadata": {},
     "output_type": "display_data"
    },
    {
     "data": {
      "text/plain": [
       "535000"
      ]
     },
     "metadata": {},
     "output_type": "display_data"
    },
    {
     "data": {
      "text/plain": [
       "540000"
      ]
     },
     "metadata": {},
     "output_type": "display_data"
    },
    {
     "data": {
      "text/plain": [
       "545000"
      ]
     },
     "metadata": {},
     "output_type": "display_data"
    },
    {
     "data": {
      "text/plain": [
       "550000"
      ]
     },
     "metadata": {},
     "output_type": "display_data"
    },
    {
     "data": {
      "text/plain": [
       "555000"
      ]
     },
     "metadata": {},
     "output_type": "display_data"
    },
    {
     "data": {
      "text/plain": [
       "560000"
      ]
     },
     "metadata": {},
     "output_type": "display_data"
    },
    {
     "data": {
      "text/plain": [
       "565000"
      ]
     },
     "metadata": {},
     "output_type": "display_data"
    },
    {
     "data": {
      "text/plain": [
       "570000"
      ]
     },
     "metadata": {},
     "output_type": "display_data"
    },
    {
     "data": {
      "text/plain": [
       "575000"
      ]
     },
     "metadata": {},
     "output_type": "display_data"
    },
    {
     "data": {
      "text/plain": [
       "580000"
      ]
     },
     "metadata": {},
     "output_type": "display_data"
    },
    {
     "data": {
      "text/plain": [
       "585000"
      ]
     },
     "metadata": {},
     "output_type": "display_data"
    },
    {
     "data": {
      "text/plain": [
       "590000"
      ]
     },
     "metadata": {},
     "output_type": "display_data"
    },
    {
     "data": {
      "text/plain": [
       "595000"
      ]
     },
     "metadata": {},
     "output_type": "display_data"
    },
    {
     "data": {
      "text/plain": [
       "600000"
      ]
     },
     "metadata": {},
     "output_type": "display_data"
    },
    {
     "data": {
      "text/plain": [
       "605000"
      ]
     },
     "metadata": {},
     "output_type": "display_data"
    },
    {
     "data": {
      "text/plain": [
       "610000"
      ]
     },
     "metadata": {},
     "output_type": "display_data"
    },
    {
     "data": {
      "text/plain": [
       "615000"
      ]
     },
     "metadata": {},
     "output_type": "display_data"
    },
    {
     "data": {
      "text/plain": [
       "620000"
      ]
     },
     "metadata": {},
     "output_type": "display_data"
    },
    {
     "data": {
      "text/plain": [
       "625000"
      ]
     },
     "metadata": {},
     "output_type": "display_data"
    },
    {
     "data": {
      "text/plain": [
       "630000"
      ]
     },
     "metadata": {},
     "output_type": "display_data"
    },
    {
     "data": {
      "text/plain": [
       "635000"
      ]
     },
     "metadata": {},
     "output_type": "display_data"
    },
    {
     "data": {
      "text/plain": [
       "640000"
      ]
     },
     "metadata": {},
     "output_type": "display_data"
    },
    {
     "data": {
      "text/plain": [
       "645000"
      ]
     },
     "metadata": {},
     "output_type": "display_data"
    },
    {
     "data": {
      "text/plain": [
       "650000"
      ]
     },
     "metadata": {},
     "output_type": "display_data"
    },
    {
     "data": {
      "text/plain": [
       "655000"
      ]
     },
     "metadata": {},
     "output_type": "display_data"
    },
    {
     "data": {
      "text/plain": [
       "660000"
      ]
     },
     "metadata": {},
     "output_type": "display_data"
    },
    {
     "data": {
      "text/plain": [
       "665000"
      ]
     },
     "metadata": {},
     "output_type": "display_data"
    },
    {
     "data": {
      "text/plain": [
       "670000"
      ]
     },
     "metadata": {},
     "output_type": "display_data"
    },
    {
     "data": {
      "text/plain": [
       "675000"
      ]
     },
     "metadata": {},
     "output_type": "display_data"
    },
    {
     "data": {
      "text/plain": [
       "680000"
      ]
     },
     "metadata": {},
     "output_type": "display_data"
    },
    {
     "data": {
      "text/plain": [
       "685000"
      ]
     },
     "metadata": {},
     "output_type": "display_data"
    },
    {
     "data": {
      "text/plain": [
       "690000"
      ]
     },
     "metadata": {},
     "output_type": "display_data"
    },
    {
     "data": {
      "text/plain": [
       "695000"
      ]
     },
     "metadata": {},
     "output_type": "display_data"
    },
    {
     "data": {
      "text/plain": [
       "700000"
      ]
     },
     "metadata": {},
     "output_type": "display_data"
    },
    {
     "data": {
      "text/plain": [
       "705000"
      ]
     },
     "metadata": {},
     "output_type": "display_data"
    },
    {
     "data": {
      "text/plain": [
       "710000"
      ]
     },
     "metadata": {},
     "output_type": "display_data"
    },
    {
     "data": {
      "text/plain": [
       "715000"
      ]
     },
     "metadata": {},
     "output_type": "display_data"
    },
    {
     "data": {
      "text/plain": [
       "720000"
      ]
     },
     "metadata": {},
     "output_type": "display_data"
    },
    {
     "data": {
      "text/plain": [
       "725000"
      ]
     },
     "metadata": {},
     "output_type": "display_data"
    },
    {
     "data": {
      "text/plain": [
       "730000"
      ]
     },
     "metadata": {},
     "output_type": "display_data"
    },
    {
     "data": {
      "text/plain": [
       "735000"
      ]
     },
     "metadata": {},
     "output_type": "display_data"
    },
    {
     "data": {
      "text/plain": [
       "740000"
      ]
     },
     "metadata": {},
     "output_type": "display_data"
    },
    {
     "data": {
      "text/plain": [
       "745000"
      ]
     },
     "metadata": {},
     "output_type": "display_data"
    },
    {
     "data": {
      "text/plain": [
       "750000"
      ]
     },
     "metadata": {},
     "output_type": "display_data"
    },
    {
     "data": {
      "text/plain": [
       "755000"
      ]
     },
     "metadata": {},
     "output_type": "display_data"
    },
    {
     "data": {
      "text/plain": [
       "760000"
      ]
     },
     "metadata": {},
     "output_type": "display_data"
    },
    {
     "data": {
      "text/plain": [
       "765000"
      ]
     },
     "metadata": {},
     "output_type": "display_data"
    },
    {
     "data": {
      "text/plain": [
       "770000"
      ]
     },
     "metadata": {},
     "output_type": "display_data"
    },
    {
     "data": {
      "text/plain": [
       "25815.2924434"
      ]
     },
     "metadata": {},
     "output_type": "display_data"
    }
   ],
   "source": [
    "start = timeit.default_timer()\n",
    "new_orders = pd.DataFrame()  \n",
    "for group in groups:\n",
    "    df = group[1]\n",
    "    df['interval'] = df['date'].sub(df['date'].shift())\n",
    "    df['interval'].iloc[0] = df['date'].iloc[0]\n",
    "    new_orders = new_orders.append(df)\n",
    "    i = i + 1\n",
    "    if(i % 5000 == 0):\n",
    "        display(i)\n",
    "    #new_orders.append(df)\n",
    "\n",
    "new_orders.to_csv('newOrders_jan.csv', encoding = 'utf-8')\n",
    "stop = timeit.default_timer()\n",
    "display(stop-start)"
   ]
  },
  {
   "cell_type": "code",
   "execution_count": 15,
   "id": "e1c8d5d2",
   "metadata": {},
   "outputs": [],
   "source": [
    "new_orders.to_csv('newOrders1.csv', encoding = 'utf-8')"
   ]
  },
  {
   "cell_type": "code",
   "execution_count": 23,
   "id": "70e367ef",
   "metadata": {},
   "outputs": [
    {
     "data": {
      "text/html": [
       "<div>\n",
       "<style scoped>\n",
       "    .dataframe tbody tr th:only-of-type {\n",
       "        vertical-align: middle;\n",
       "    }\n",
       "\n",
       "    .dataframe tbody tr th {\n",
       "        vertical-align: top;\n",
       "    }\n",
       "\n",
       "    .dataframe thead th {\n",
       "        text-align: right;\n",
       "    }\n",
       "</style>\n",
       "<table border=\"1\" class=\"dataframe\">\n",
       "  <thead>\n",
       "    <tr style=\"text-align: right;\">\n",
       "      <th></th>\n",
       "      <th>date</th>\n",
       "      <th>userID</th>\n",
       "      <th>itemID</th>\n",
       "      <th>order</th>\n",
       "      <th>comID</th>\n",
       "      <th>interval</th>\n",
       "    </tr>\n",
       "  </thead>\n",
       "  <tbody>\n",
       "    <tr>\n",
       "      <th>573415</th>\n",
       "      <td>2020-10-17</td>\n",
       "      <td>10139</td>\n",
       "      <td>4604</td>\n",
       "      <td>2</td>\n",
       "      <td>101394604</td>\n",
       "      <td>67 days 00:00:00</td>\n",
       "    </tr>\n",
       "    <tr>\n",
       "      <th>531571</th>\n",
       "      <td>2020-10-06</td>\n",
       "      <td>10139</td>\n",
       "      <td>4656</td>\n",
       "      <td>1</td>\n",
       "      <td>101394656</td>\n",
       "      <td>2020-10-06 00:00:00</td>\n",
       "    </tr>\n",
       "    <tr>\n",
       "      <th>753056</th>\n",
       "      <td>2020-11-28</td>\n",
       "      <td>10139</td>\n",
       "      <td>6086</td>\n",
       "      <td>1</td>\n",
       "      <td>101396086</td>\n",
       "      <td>2020-11-28 00:00:00</td>\n",
       "    </tr>\n",
       "    <tr>\n",
       "      <th>753100</th>\n",
       "      <td>2020-11-28</td>\n",
       "      <td>10139</td>\n",
       "      <td>7021</td>\n",
       "      <td>1</td>\n",
       "      <td>101397021</td>\n",
       "      <td>2020-11-28 00:00:00</td>\n",
       "    </tr>\n",
       "    <tr>\n",
       "      <th>107860</th>\n",
       "      <td>2020-06-27</td>\n",
       "      <td>10139</td>\n",
       "      <td>9492</td>\n",
       "      <td>1</td>\n",
       "      <td>101399492</td>\n",
       "      <td>2020-06-27 00:00:00</td>\n",
       "    </tr>\n",
       "    <tr>\n",
       "      <th>15417</th>\n",
       "      <td>2020-06-04</td>\n",
       "      <td>10140</td>\n",
       "      <td>11201</td>\n",
       "      <td>1</td>\n",
       "      <td>1014011201</td>\n",
       "      <td>2020-06-04 00:00:00</td>\n",
       "    </tr>\n",
       "    <tr>\n",
       "      <th>395452</th>\n",
       "      <td>2020-09-02</td>\n",
       "      <td>10140</td>\n",
       "      <td>11201</td>\n",
       "      <td>1</td>\n",
       "      <td>1014011201</td>\n",
       "      <td>90 days 00:00:00</td>\n",
       "    </tr>\n",
       "    <tr>\n",
       "      <th>15416</th>\n",
       "      <td>2020-06-04</td>\n",
       "      <td>10140</td>\n",
       "      <td>12663</td>\n",
       "      <td>1</td>\n",
       "      <td>1014012663</td>\n",
       "      <td>2020-06-04 00:00:00</td>\n",
       "    </tr>\n",
       "    <tr>\n",
       "      <th>703539</th>\n",
       "      <td>2020-11-17</td>\n",
       "      <td>10140</td>\n",
       "      <td>12663</td>\n",
       "      <td>1</td>\n",
       "      <td>1014012663</td>\n",
       "      <td>166 days 00:00:00</td>\n",
       "    </tr>\n",
       "    <tr>\n",
       "      <th>388237</th>\n",
       "      <td>2020-08-31</td>\n",
       "      <td>10140</td>\n",
       "      <td>13027</td>\n",
       "      <td>1</td>\n",
       "      <td>1014013027</td>\n",
       "      <td>2020-08-31 00:00:00</td>\n",
       "    </tr>\n",
       "    <tr>\n",
       "      <th>395453</th>\n",
       "      <td>2020-09-02</td>\n",
       "      <td>10140</td>\n",
       "      <td>17492</td>\n",
       "      <td>1</td>\n",
       "      <td>1014017492</td>\n",
       "      <td>2020-09-02 00:00:00</td>\n",
       "    </tr>\n",
       "    <tr>\n",
       "      <th>703817</th>\n",
       "      <td>2020-11-17</td>\n",
       "      <td>10140</td>\n",
       "      <td>17603</td>\n",
       "      <td>1</td>\n",
       "      <td>1014017603</td>\n",
       "      <td>2020-11-17 00:00:00</td>\n",
       "    </tr>\n",
       "    <tr>\n",
       "      <th>224729</th>\n",
       "      <td>2020-07-23</td>\n",
       "      <td>10140</td>\n",
       "      <td>22315</td>\n",
       "      <td>1</td>\n",
       "      <td>1014022315</td>\n",
       "      <td>2020-07-23 00:00:00</td>\n",
       "    </tr>\n",
       "    <tr>\n",
       "      <th>388238</th>\n",
       "      <td>2020-08-31</td>\n",
       "      <td>10140</td>\n",
       "      <td>24091</td>\n",
       "      <td>1</td>\n",
       "      <td>1014024091</td>\n",
       "      <td>2020-08-31 00:00:00</td>\n",
       "    </tr>\n",
       "    <tr>\n",
       "      <th>568752</th>\n",
       "      <td>2020-10-15</td>\n",
       "      <td>10140</td>\n",
       "      <td>24091</td>\n",
       "      <td>1</td>\n",
       "      <td>1014024091</td>\n",
       "      <td>45 days 00:00:00</td>\n",
       "    </tr>\n",
       "    <tr>\n",
       "      <th>395450</th>\n",
       "      <td>2020-09-02</td>\n",
       "      <td>10140</td>\n",
       "      <td>25557</td>\n",
       "      <td>1</td>\n",
       "      <td>1014025557</td>\n",
       "      <td>2020-09-02 00:00:00</td>\n",
       "    </tr>\n",
       "    <tr>\n",
       "      <th>221055</th>\n",
       "      <td>2020-07-22</td>\n",
       "      <td>10140</td>\n",
       "      <td>27355</td>\n",
       "      <td>1</td>\n",
       "      <td>1014027355</td>\n",
       "      <td>2020-07-22 00:00:00</td>\n",
       "    </tr>\n",
       "    <tr>\n",
       "      <th>224731</th>\n",
       "      <td>2020-07-23</td>\n",
       "      <td>10140</td>\n",
       "      <td>28709</td>\n",
       "      <td>1</td>\n",
       "      <td>1014028709</td>\n",
       "      <td>2020-07-23 00:00:00</td>\n",
       "    </tr>\n",
       "    <tr>\n",
       "      <th>395451</th>\n",
       "      <td>2020-09-02</td>\n",
       "      <td>10140</td>\n",
       "      <td>4424</td>\n",
       "      <td>1</td>\n",
       "      <td>101404424</td>\n",
       "      <td>2020-09-02 00:00:00</td>\n",
       "    </tr>\n",
       "    <tr>\n",
       "      <th>15415</th>\n",
       "      <td>2020-06-04</td>\n",
       "      <td>10140</td>\n",
       "      <td>5743</td>\n",
       "      <td>1</td>\n",
       "      <td>101405743</td>\n",
       "      <td>2020-06-04 00:00:00</td>\n",
       "    </tr>\n",
       "    <tr>\n",
       "      <th>224730</th>\n",
       "      <td>2020-07-23</td>\n",
       "      <td>10140</td>\n",
       "      <td>5743</td>\n",
       "      <td>1</td>\n",
       "      <td>101405743</td>\n",
       "      <td>49 days 00:00:00</td>\n",
       "    </tr>\n",
       "    <tr>\n",
       "      <th>206614</th>\n",
       "      <td>2020-07-18</td>\n",
       "      <td>10141</td>\n",
       "      <td>10401</td>\n",
       "      <td>1</td>\n",
       "      <td>1014110401</td>\n",
       "      <td>2020-07-18 00:00:00</td>\n",
       "    </tr>\n",
       "    <tr>\n",
       "      <th>86439</th>\n",
       "      <td>2020-06-21</td>\n",
       "      <td>1014</td>\n",
       "      <td>11199</td>\n",
       "      <td>2</td>\n",
       "      <td>101411199</td>\n",
       "      <td>2020-06-21 00:00:00</td>\n",
       "    </tr>\n",
       "    <tr>\n",
       "      <th>385863</th>\n",
       "      <td>2020-08-31</td>\n",
       "      <td>1014</td>\n",
       "      <td>11199</td>\n",
       "      <td>2</td>\n",
       "      <td>101411199</td>\n",
       "      <td>71 days 00:00:00</td>\n",
       "    </tr>\n",
       "    <tr>\n",
       "      <th>645616</th>\n",
       "      <td>2020-11-03</td>\n",
       "      <td>1014</td>\n",
       "      <td>11199</td>\n",
       "      <td>2</td>\n",
       "      <td>101411199</td>\n",
       "      <td>64 days 00:00:00</td>\n",
       "    </tr>\n",
       "    <tr>\n",
       "      <th>474421</th>\n",
       "      <td>2020-09-22</td>\n",
       "      <td>10141</td>\n",
       "      <td>1236</td>\n",
       "      <td>1</td>\n",
       "      <td>101411236</td>\n",
       "      <td>2020-09-22 00:00:00</td>\n",
       "    </tr>\n",
       "    <tr>\n",
       "      <th>28234</th>\n",
       "      <td>2020-06-06</td>\n",
       "      <td>10141</td>\n",
       "      <td>16971</td>\n",
       "      <td>1</td>\n",
       "      <td>1014116971</td>\n",
       "      <td>2020-06-06 00:00:00</td>\n",
       "    </tr>\n",
       "    <tr>\n",
       "      <th>28233</th>\n",
       "      <td>2020-06-06</td>\n",
       "      <td>10141</td>\n",
       "      <td>17165</td>\n",
       "      <td>1</td>\n",
       "      <td>1014117165</td>\n",
       "      <td>2020-06-06 00:00:00</td>\n",
       "    </tr>\n",
       "    <tr>\n",
       "      <th>156790</th>\n",
       "      <td>2020-07-06</td>\n",
       "      <td>10141</td>\n",
       "      <td>18630</td>\n",
       "      <td>3</td>\n",
       "      <td>1014118630</td>\n",
       "      <td>2020-07-06 00:00:00</td>\n",
       "    </tr>\n",
       "    <tr>\n",
       "      <th>474417</th>\n",
       "      <td>2020-09-22</td>\n",
       "      <td>10141</td>\n",
       "      <td>18630</td>\n",
       "      <td>3</td>\n",
       "      <td>1014118630</td>\n",
       "      <td>78 days 00:00:00</td>\n",
       "    </tr>\n",
       "    <tr>\n",
       "      <th>206639</th>\n",
       "      <td>2020-07-18</td>\n",
       "      <td>10141</td>\n",
       "      <td>19043</td>\n",
       "      <td>1</td>\n",
       "      <td>1014119043</td>\n",
       "      <td>2020-07-18 00:00:00</td>\n",
       "    </tr>\n",
       "    <tr>\n",
       "      <th>352849</th>\n",
       "      <td>2020-08-23</td>\n",
       "      <td>10141</td>\n",
       "      <td>19043</td>\n",
       "      <td>1</td>\n",
       "      <td>1014119043</td>\n",
       "      <td>36 days 00:00:00</td>\n",
       "    </tr>\n",
       "    <tr>\n",
       "      <th>352847</th>\n",
       "      <td>2020-08-23</td>\n",
       "      <td>10141</td>\n",
       "      <td>21953</td>\n",
       "      <td>2</td>\n",
       "      <td>1014121953</td>\n",
       "      <td>2020-08-23 00:00:00</td>\n",
       "    </tr>\n",
       "    <tr>\n",
       "      <th>156793</th>\n",
       "      <td>2020-07-06</td>\n",
       "      <td>10141</td>\n",
       "      <td>220</td>\n",
       "      <td>1</td>\n",
       "      <td>10141220</td>\n",
       "      <td>2020-07-06 00:00:00</td>\n",
       "    </tr>\n",
       "    <tr>\n",
       "      <th>206615</th>\n",
       "      <td>2020-07-18</td>\n",
       "      <td>10141</td>\n",
       "      <td>22836</td>\n",
       "      <td>1</td>\n",
       "      <td>1014122836</td>\n",
       "      <td>2020-07-18 00:00:00</td>\n",
       "    </tr>\n",
       "    <tr>\n",
       "      <th>28236</th>\n",
       "      <td>2020-06-06</td>\n",
       "      <td>10141</td>\n",
       "      <td>29700</td>\n",
       "      <td>1</td>\n",
       "      <td>1014129700</td>\n",
       "      <td>2020-06-06 00:00:00</td>\n",
       "    </tr>\n",
       "    <tr>\n",
       "      <th>28235</th>\n",
       "      <td>2020-06-06</td>\n",
       "      <td>10141</td>\n",
       "      <td>30362</td>\n",
       "      <td>1</td>\n",
       "      <td>1014130362</td>\n",
       "      <td>2020-06-06 00:00:00</td>\n",
       "    </tr>\n",
       "    <tr>\n",
       "      <th>156792</th>\n",
       "      <td>2020-07-06</td>\n",
       "      <td>10141</td>\n",
       "      <td>3438</td>\n",
       "      <td>1</td>\n",
       "      <td>101413438</td>\n",
       "      <td>2020-07-06 00:00:00</td>\n",
       "    </tr>\n",
       "    <tr>\n",
       "      <th>474419</th>\n",
       "      <td>2020-09-22</td>\n",
       "      <td>10141</td>\n",
       "      <td>3438</td>\n",
       "      <td>1</td>\n",
       "      <td>101413438</td>\n",
       "      <td>78 days 00:00:00</td>\n",
       "    </tr>\n",
       "    <tr>\n",
       "      <th>352848</th>\n",
       "      <td>2020-08-23</td>\n",
       "      <td>10141</td>\n",
       "      <td>3965</td>\n",
       "      <td>1</td>\n",
       "      <td>101413965</td>\n",
       "      <td>2020-08-23 00:00:00</td>\n",
       "    </tr>\n",
       "    <tr>\n",
       "      <th>156791</th>\n",
       "      <td>2020-07-06</td>\n",
       "      <td>10141</td>\n",
       "      <td>461</td>\n",
       "      <td>1</td>\n",
       "      <td>10141461</td>\n",
       "      <td>2020-07-06 00:00:00</td>\n",
       "    </tr>\n",
       "    <tr>\n",
       "      <th>474418</th>\n",
       "      <td>2020-09-22</td>\n",
       "      <td>10141</td>\n",
       "      <td>461</td>\n",
       "      <td>1</td>\n",
       "      <td>10141461</td>\n",
       "      <td>78 days 00:00:00</td>\n",
       "    </tr>\n",
       "    <tr>\n",
       "      <th>596772</th>\n",
       "      <td>2020-10-21</td>\n",
       "      <td>1014</td>\n",
       "      <td>16059</td>\n",
       "      <td>1</td>\n",
       "      <td>101416059</td>\n",
       "      <td>2020-10-21 00:00:00</td>\n",
       "    </tr>\n",
       "    <tr>\n",
       "      <th>385864</th>\n",
       "      <td>2020-08-31</td>\n",
       "      <td>1014</td>\n",
       "      <td>17986</td>\n",
       "      <td>1</td>\n",
       "      <td>101417986</td>\n",
       "      <td>2020-08-31 00:00:00</td>\n",
       "    </tr>\n",
       "    <tr>\n",
       "      <th>385865</th>\n",
       "      <td>2020-08-31</td>\n",
       "      <td>1014</td>\n",
       "      <td>1881</td>\n",
       "      <td>1</td>\n",
       "      <td>10141881</td>\n",
       "      <td>2020-08-31 00:00:00</td>\n",
       "    </tr>\n",
       "    <tr>\n",
       "      <th>385859</th>\n",
       "      <td>2020-08-31</td>\n",
       "      <td>1014</td>\n",
       "      <td>20888</td>\n",
       "      <td>1</td>\n",
       "      <td>101420888</td>\n",
       "      <td>2020-08-31 00:00:00</td>\n",
       "    </tr>\n",
       "    <tr>\n",
       "      <th>663869</th>\n",
       "      <td>2020-11-09</td>\n",
       "      <td>10142</td>\n",
       "      <td>15846</td>\n",
       "      <td>1</td>\n",
       "      <td>1014215846</td>\n",
       "      <td>2020-11-09 00:00:00</td>\n",
       "    </tr>\n",
       "    <tr>\n",
       "      <th>698492</th>\n",
       "      <td>2020-11-17</td>\n",
       "      <td>10142</td>\n",
       "      <td>20594</td>\n",
       "      <td>6</td>\n",
       "      <td>1014220594</td>\n",
       "      <td>2020-11-17 00:00:00</td>\n",
       "    </tr>\n",
       "    <tr>\n",
       "      <th>596773</th>\n",
       "      <td>2020-10-21</td>\n",
       "      <td>1014</td>\n",
       "      <td>2265</td>\n",
       "      <td>1</td>\n",
       "      <td>10142265</td>\n",
       "      <td>2020-10-21 00:00:00</td>\n",
       "    </tr>\n",
       "    <tr>\n",
       "      <th>21304</th>\n",
       "      <td>2020-06-05</td>\n",
       "      <td>10142</td>\n",
       "      <td>29473</td>\n",
       "      <td>1</td>\n",
       "      <td>1014229473</td>\n",
       "      <td>2020-06-05 00:00:00</td>\n",
       "    </tr>\n",
       "  </tbody>\n",
       "</table>\n",
       "</div>"
      ],
      "text/plain": [
       "             date  userID  itemID  order       comID             interval\n",
       "573415 2020-10-17   10139    4604      2   101394604     67 days 00:00:00\n",
       "531571 2020-10-06   10139    4656      1   101394656  2020-10-06 00:00:00\n",
       "753056 2020-11-28   10139    6086      1   101396086  2020-11-28 00:00:00\n",
       "753100 2020-11-28   10139    7021      1   101397021  2020-11-28 00:00:00\n",
       "107860 2020-06-27   10139    9492      1   101399492  2020-06-27 00:00:00\n",
       "15417  2020-06-04   10140   11201      1  1014011201  2020-06-04 00:00:00\n",
       "395452 2020-09-02   10140   11201      1  1014011201     90 days 00:00:00\n",
       "15416  2020-06-04   10140   12663      1  1014012663  2020-06-04 00:00:00\n",
       "703539 2020-11-17   10140   12663      1  1014012663    166 days 00:00:00\n",
       "388237 2020-08-31   10140   13027      1  1014013027  2020-08-31 00:00:00\n",
       "395453 2020-09-02   10140   17492      1  1014017492  2020-09-02 00:00:00\n",
       "703817 2020-11-17   10140   17603      1  1014017603  2020-11-17 00:00:00\n",
       "224729 2020-07-23   10140   22315      1  1014022315  2020-07-23 00:00:00\n",
       "388238 2020-08-31   10140   24091      1  1014024091  2020-08-31 00:00:00\n",
       "568752 2020-10-15   10140   24091      1  1014024091     45 days 00:00:00\n",
       "395450 2020-09-02   10140   25557      1  1014025557  2020-09-02 00:00:00\n",
       "221055 2020-07-22   10140   27355      1  1014027355  2020-07-22 00:00:00\n",
       "224731 2020-07-23   10140   28709      1  1014028709  2020-07-23 00:00:00\n",
       "395451 2020-09-02   10140    4424      1   101404424  2020-09-02 00:00:00\n",
       "15415  2020-06-04   10140    5743      1   101405743  2020-06-04 00:00:00\n",
       "224730 2020-07-23   10140    5743      1   101405743     49 days 00:00:00\n",
       "206614 2020-07-18   10141   10401      1  1014110401  2020-07-18 00:00:00\n",
       "86439  2020-06-21    1014   11199      2   101411199  2020-06-21 00:00:00\n",
       "385863 2020-08-31    1014   11199      2   101411199     71 days 00:00:00\n",
       "645616 2020-11-03    1014   11199      2   101411199     64 days 00:00:00\n",
       "474421 2020-09-22   10141    1236      1   101411236  2020-09-22 00:00:00\n",
       "28234  2020-06-06   10141   16971      1  1014116971  2020-06-06 00:00:00\n",
       "28233  2020-06-06   10141   17165      1  1014117165  2020-06-06 00:00:00\n",
       "156790 2020-07-06   10141   18630      3  1014118630  2020-07-06 00:00:00\n",
       "474417 2020-09-22   10141   18630      3  1014118630     78 days 00:00:00\n",
       "206639 2020-07-18   10141   19043      1  1014119043  2020-07-18 00:00:00\n",
       "352849 2020-08-23   10141   19043      1  1014119043     36 days 00:00:00\n",
       "352847 2020-08-23   10141   21953      2  1014121953  2020-08-23 00:00:00\n",
       "156793 2020-07-06   10141     220      1    10141220  2020-07-06 00:00:00\n",
       "206615 2020-07-18   10141   22836      1  1014122836  2020-07-18 00:00:00\n",
       "28236  2020-06-06   10141   29700      1  1014129700  2020-06-06 00:00:00\n",
       "28235  2020-06-06   10141   30362      1  1014130362  2020-06-06 00:00:00\n",
       "156792 2020-07-06   10141    3438      1   101413438  2020-07-06 00:00:00\n",
       "474419 2020-09-22   10141    3438      1   101413438     78 days 00:00:00\n",
       "352848 2020-08-23   10141    3965      1   101413965  2020-08-23 00:00:00\n",
       "156791 2020-07-06   10141     461      1    10141461  2020-07-06 00:00:00\n",
       "474418 2020-09-22   10141     461      1    10141461     78 days 00:00:00\n",
       "596772 2020-10-21    1014   16059      1   101416059  2020-10-21 00:00:00\n",
       "385864 2020-08-31    1014   17986      1   101417986  2020-08-31 00:00:00\n",
       "385865 2020-08-31    1014    1881      1    10141881  2020-08-31 00:00:00\n",
       "385859 2020-08-31    1014   20888      1   101420888  2020-08-31 00:00:00\n",
       "663869 2020-11-09   10142   15846      1  1014215846  2020-11-09 00:00:00\n",
       "698492 2020-11-17   10142   20594      6  1014220594  2020-11-17 00:00:00\n",
       "596773 2020-10-21    1014    2265      1    10142265  2020-10-21 00:00:00\n",
       "21304  2020-06-05   10142   29473      1  1014229473  2020-06-05 00:00:00"
      ]
     },
     "metadata": {},
     "output_type": "display_data"
    }
   ],
   "source": [
    "display(new_orders[2500:2550])"
   ]
  },
  {
   "cell_type": "code",
   "execution_count": null,
   "id": "b77a10a0",
   "metadata": {},
   "outputs": [],
   "source": []
  },
  {
   "cell_type": "code",
   "execution_count": null,
   "id": "8ffe0c08",
   "metadata": {},
   "outputs": [],
   "source": []
  },
  {
   "cell_type": "code",
   "execution_count": null,
   "id": "3c3fa666",
   "metadata": {},
   "outputs": [],
   "source": []
  },
  {
   "cell_type": "code",
   "execution_count": null,
   "id": "9fb42ee6",
   "metadata": {},
   "outputs": [],
   "source": []
  },
  {
   "cell_type": "code",
   "execution_count": null,
   "id": "97b82cf1",
   "metadata": {},
   "outputs": [],
   "source": []
  },
  {
   "cell_type": "code",
   "execution_count": null,
   "id": "4661bd2c",
   "metadata": {},
   "outputs": [],
   "source": []
  },
  {
   "cell_type": "code",
   "execution_count": null,
   "id": "bf1d7abf",
   "metadata": {},
   "outputs": [],
   "source": []
  },
  {
   "cell_type": "code",
   "execution_count": null,
   "id": "343ec2f2",
   "metadata": {},
   "outputs": [],
   "source": []
  },
  {
   "cell_type": "code",
   "execution_count": null,
   "id": "93d6ae92",
   "metadata": {},
   "outputs": [],
   "source": []
  },
  {
   "cell_type": "code",
   "execution_count": null,
   "id": "6d776180",
   "metadata": {},
   "outputs": [],
   "source": []
  }
 ],
 "metadata": {
  "kernelspec": {
   "display_name": "Python 3",
   "language": "python",
   "name": "python3"
  },
  "language_info": {
   "codemirror_mode": {
    "name": "ipython",
    "version": 3
   },
   "file_extension": ".py",
   "mimetype": "text/x-python",
   "name": "python",
   "nbconvert_exporter": "python",
   "pygments_lexer": "ipython3",
   "version": "3.8.8"
  }
 },
 "nbformat": 4,
 "nbformat_minor": 5
}
